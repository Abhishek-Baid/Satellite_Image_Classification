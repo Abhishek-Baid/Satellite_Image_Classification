{
 "cells": [
  {
   "cell_type": "code",
   "execution_count": 1,
   "id": "82d7a179",
   "metadata": {},
   "outputs": [],
   "source": [
    "import numpy as np\n",
    "import pandas as pd\n",
    "from PIL import Image\n",
    "import cv2\n",
    "import sklearn\n",
    "import matplotlib.pyplot as plt\n",
    "import os\n",
    "import tensorflow as tf\n",
    "from tensorflow import keras\n",
    "import random\n",
    "import shutil\n",
    "import math\n",
    "from tensorflow.keras.preprocessing.image import ImageDataGenerator, load_img, img_to_array, array_to_img"
   ]
  },
  {
   "cell_type": "code",
   "execution_count": 9,
   "id": "628ad684",
   "metadata": {},
   "outputs": [
    {
     "data": {
      "text/plain": [
       "'2.15.0'"
      ]
     },
     "execution_count": 9,
     "metadata": {},
     "output_type": "execute_result"
    }
   ],
   "source": []
  },
  {
   "cell_type": "code",
   "execution_count": 2,
   "id": "c587f086",
   "metadata": {},
   "outputs": [],
   "source": [
    "root_dir='C:\\\\Users\\\\Abhi\\\\Jupyter_notebooks\\\\Cloudxlab DS PGP\\\\MachineLearning\\\\CapstoneProject_Satellite_Image_Classification\\\\EuroSAT_RGB\\\\EuroSAT_RGB'\n",
    "train_dir='C:\\\\Users\\\\Abhi\\\\Jupyter_notebooks\\\\Cloudxlab DS PGP\\\\MachineLearning\\\\CapstoneProject_Satellite_Image_Classification\\\\EuroSAT_RGB\\\\train'\n",
    "test_dir='C:\\\\Users\\\\Abhi\\\\Jupyter_notebooks\\\\Cloudxlab DS PGP\\\\MachineLearning\\\\CapstoneProject_Satellite_Image_Classification\\\\EuroSAT_RGB\\\\test'\n"
   ]
  },
  {
   "cell_type": "code",
   "execution_count": 3,
   "id": "8ad29eb7",
   "metadata": {},
   "outputs": [],
   "source": [
    "test_data_generator=ImageDataGenerator(rescale=1.0/255,\n",
    "                                      data_format=\"channels_last\")"
   ]
  },
  {
   "cell_type": "code",
   "execution_count": 4,
   "id": "b904c3a3",
   "metadata": {},
   "outputs": [],
   "source": [
    "import sys\n",
    "def sizeof_fmt(num, suffix='B'):\n",
    "    ''' by Fred Cirera,  https://stackoverflow.com/a/1094933/1870254, modified'''\n",
    "    for unit in ['','Ki','Mi','Gi','Ti','Pi','Ei','Zi']:\n",
    "        if abs(num) < 1024.0:\n",
    "            return \"%3.1f %s%s\" % (num, unit, suffix)\n",
    "        num /= 1024.0\n",
    "    return \"%.1f %s%s\" % (num, 'Yi', suffix)\n",
    "\n",
    "def get_variable_and_size(namespace):\n",
    "    for name, size in sorted(((name, sys.getsizeof(value)) for name, value in list(namespace.items())), key= lambda x: -x[1])[:10]:\n",
    "        print(\"{:>30}: {:>8}\".format(name, sizeof_fmt(size)))"
   ]
  },
  {
   "cell_type": "code",
   "execution_count": 5,
   "id": "c2412df8",
   "metadata": {},
   "outputs": [
    {
     "name": "stdout",
     "output_type": "stream",
     "text": [
      "            ImageDataGenerator:  2.0 KiB\n",
      "                            _i:  615.0 B\n",
      "                           _i4:  615.0 B\n",
      "                          _iii:  501.0 B\n",
      "                           _i2:  501.0 B\n",
      "                           _i1:  376.0 B\n",
      "                      root_dir:  184.0 B\n",
      "                     train_dir:  178.0 B\n",
      "                      test_dir:  177.0 B\n",
      "                           _ii:  171.0 B\n"
     ]
    }
   ],
   "source": [
    "get_variable_and_size(locals())"
   ]
  },
  {
   "cell_type": "code",
   "execution_count": 9,
   "id": "e1af932d",
   "metadata": {},
   "outputs": [],
   "source": [
    "#model1 = tf.keras.models.load_model('inception_resnet_v2_transfer_learning.h5')\n",
    "#model2 = tf.keras.models.load_model('inception_v3_transfer_learning.h5')\n",
    "#model3 = tf.keras.models.load_model('resnet50v2_out_conv_transfer_learning.h5')\n",
    "#model4 = tf.keras.models.load_model('resnet50v2_self_transfer_learning.h5')\n",
    "#model5 = tf.keras.models.load_model('vgg19_transfer_learning.h5')\n",
    "\n",
    "models_path_input_dict = {'inception_resnet_v2_transfer_learning.h5':(75,75), 'inception_v3_transfer_learning.h5':(75,75), 'resnet50v2_out_conv_transfer_learning.h5':(64,64), \n",
    "              'resnet50v2_self_transfer_learning.h5':(64,64),'vgg19_transfer_learning.h5':(64,64) }\n"
   ]
  },
  {
   "cell_type": "code",
   "execution_count": 7,
   "id": "c4110d17",
   "metadata": {},
   "outputs": [
    {
     "name": "stdout",
     "output_type": "stream",
     "text": [
      "Found 5400 images belonging to 10 classes.\n"
     ]
    }
   ],
   "source": []
  },
  {
   "cell_type": "code",
   "execution_count": 10,
   "id": "1aa032e8",
   "metadata": {},
   "outputs": [
    {
     "name": "stdout",
     "output_type": "stream",
     "text": [
      "            ImageDataGenerator:  2.0 KiB\n",
      "                            _i:  705.0 B\n",
      "                           _i9:  705.0 B\n",
      "                           _i6:  654.0 B\n",
      "                           _i4:  615.0 B\n",
      "                           _i2:  501.0 B\n",
      "                      test_dir:  435.0 B\n",
      "                           _i1:  376.0 B\n",
      "                          _iii:  260.0 B\n",
      "                           _i7:  260.0 B\n"
     ]
    }
   ],
   "source": [
    "get_variable_and_size(locals())"
   ]
  },
  {
   "cell_type": "code",
   "execution_count": 11,
   "id": "400b94cf",
   "metadata": {},
   "outputs": [
    {
     "data": {
      "text/plain": [
       "['AnnualCrop',\n",
       " 'Forest',\n",
       " 'HerbaceousVegetation',\n",
       " 'Highway',\n",
       " 'Industrial',\n",
       " 'Pasture',\n",
       " 'PermanentCrop',\n",
       " 'Residential',\n",
       " 'River',\n",
       " 'SeaLake']"
      ]
     },
     "execution_count": 11,
     "metadata": {},
     "output_type": "execute_result"
    }
   ],
   "source": [
    "class_labels = list(test_data_gen.class_indices.keys())\n",
    "class_labels"
   ]
  },
  {
   "cell_type": "code",
   "execution_count": 17,
   "id": "3a6691c3",
   "metadata": {},
   "outputs": [
    {
     "name": "stdout",
     "output_type": "stream",
     "text": [
      "Found 5400 images belonging to 10 classes.\n",
      "Accuracy for inception_resnet_v2_transfer_learning.h5 is  0.8903703703703704\n",
      "Found 5400 images belonging to 10 classes.\n",
      "Accuracy for inception_v3_transfer_learning.h5 is  0.8711111111111111\n",
      "Found 5400 images belonging to 10 classes.\n",
      "Accuracy for resnet50v2_out_conv_transfer_learning.h5 is  0.8361111111111111\n",
      "Found 5400 images belonging to 10 classes.\n",
      "Accuracy for resnet50v2_self_transfer_learning.h5 is  0.8485185185185186\n",
      "Found 5400 images belonging to 10 classes.\n",
      "Accuracy for vgg19_transfer_learning.h5 is  0.8381481481481482\n",
      "                      precision    recall  f1-score   support\n",
      "\n",
      "          AnnualCrop       0.97      0.94      0.95       600\n",
      "              Forest       0.98      0.58      0.73       600\n",
      "HerbaceousVegetation       0.84      0.93      0.88       600\n",
      "             Highway       0.95      0.90      0.93       500\n",
      "          Industrial       0.97      0.93      0.95       500\n",
      "             Pasture       0.94      0.92      0.93       400\n",
      "       PermanentCrop       0.93      0.82      0.87       500\n",
      "         Residential       0.92      1.00      0.96       600\n",
      "               River       0.97      0.94      0.95       500\n",
      "             SeaLake       0.68      0.99      0.81       600\n",
      "\n",
      "            accuracy                           0.89      5400\n",
      "           macro avg       0.91      0.89      0.90      5400\n",
      "        weighted avg       0.91      0.89      0.89      5400\n",
      "\n"
     ]
    }
   ],
   "source": [
    "#batch_size=32\n",
    "from sklearn.metrics import classification_report\n",
    "\n",
    "predictions = []\n",
    "\n",
    "for i,k in models_path_input_dict.items():\n",
    "    \n",
    "    input_size=k\n",
    "    test_data_gen = test_data_generator.flow_from_directory(test_dir,\n",
    "                                                            target_size=input_size,\n",
    "                                                            color_mode='rgb',\n",
    "                                                            batch_size=20,\n",
    "                                                            class_mode='sparse',\n",
    "                                                            interpolation=\"lanczos\",\n",
    "                                                            shuffle=False\n",
    "                                                           )\n",
    "    model = tf.keras.models.load_model(i)\n",
    "    y_pred=model.predict(test_data_gen)\n",
    "    accuracy = np.mean(np.argmax(y_pred, axis=1) == true_labels)\n",
    "    print(\"Accuracy for {} is \".format(i) , accuracy )\n",
    "    predictions.append(y_pred)\n",
    "    del model\n",
    "    \n",
    "predictions = np.average(predictions, axis=0)\n",
    "\n",
    "true_labels = test_data_gen.classes\n",
    "print(classification_report(true_labels, predictions.argmax(axis=1), target_names=class_labels))\n",
    "    \n",
    "#y_pred = model1.predict(test_data_gen)#,steps= math.ceil(test_data_generator.samples//batch_size),workers=8)\n",
    "\n",
    "#y_pred"
   ]
  },
  {
   "cell_type": "code",
   "execution_count": 18,
   "id": "39b09af8",
   "metadata": {},
   "outputs": [
    {
     "name": "stdout",
     "output_type": "stream",
     "text": [
      "Accuracy: 0.8935185185185185\n"
     ]
    }
   ],
   "source": [
    "predicted_labels = np.argmax(predictions, axis=1)\n",
    "\n",
    "# Compare with ground truth labels\n",
    "true_labels = test_data_gen.classes\n",
    "\n",
    "# Calculate accuracy\n",
    "accuracy = np.mean(predicted_labels == true_labels)\n",
    "print(\"Accuracy:\", accuracy)"
   ]
  },
  {
   "cell_type": "code",
   "execution_count": 3,
   "id": "0934b0b5",
   "metadata": {},
   "outputs": [],
   "source": [
    "model = tf.keras.models.load_model('inception_resnet_v2_2_best_model_fold_1.keras')"
   ]
  },
  {
   "cell_type": "code",
   "execution_count": 4,
   "id": "8857b805",
   "metadata": {},
   "outputs": [],
   "source": [
    "test_data_generator=ImageDataGenerator(rescale=1.0/255,\n",
    "                                      data_format=\"channels_last\")"
   ]
  },
  {
   "cell_type": "code",
   "execution_count": 8,
   "id": "62e0fc29",
   "metadata": {},
   "outputs": [
    {
     "name": "stdout",
     "output_type": "stream",
     "text": [
      "Found 5400 images belonging to 10 classes.\n"
     ]
    }
   ],
   "source": [
    "test_data_gen = test_data_generator.flow_from_directory(test_dir,\n",
    "                                                        target_size=(75,75),\n",
    "                                                        color_mode='rgb',\n",
    "                                                        batch_size=20,\n",
    "                                                        class_mode='sparse',\n",
    "                                                        interpolation=\"lanczos\",\n",
    "                                                        shuffle=False\n",
    "                                                           )"
   ]
  },
  {
   "cell_type": "code",
   "execution_count": 9,
   "id": "41de2ecd",
   "metadata": {},
   "outputs": [],
   "source": [
    "y_pred=model.predict(test_data_gen)"
   ]
  },
  {
   "cell_type": "code",
   "execution_count": 11,
   "id": "b35a0fd8",
   "metadata": {},
   "outputs": [],
   "source": [
    "true_labels = test_data_gen.classes"
   ]
  },
  {
   "cell_type": "code",
   "execution_count": 12,
   "id": "5b37cb89",
   "metadata": {},
   "outputs": [],
   "source": [
    "accuracy = np.mean(np.argmax(y_pred, axis=1) == true_labels)"
   ]
  },
  {
   "cell_type": "code",
   "execution_count": 13,
   "id": "f0e59ac0",
   "metadata": {},
   "outputs": [
    {
     "data": {
      "text/plain": [
       "0.8538888888888889"
      ]
     },
     "execution_count": 13,
     "metadata": {},
     "output_type": "execute_result"
    }
   ],
   "source": [
    "accuracy"
   ]
  },
  {
   "cell_type": "code",
   "execution_count": null,
   "id": "9e862a73",
   "metadata": {},
   "outputs": [],
   "source": []
  }
 ],
 "metadata": {
  "kernelspec": {
   "display_name": "python-tensorflow",
   "language": "python",
   "name": "python-tensorflow"
  },
  "language_info": {
   "codemirror_mode": {
    "name": "ipython",
    "version": 3
   },
   "file_extension": ".py",
   "mimetype": "text/x-python",
   "name": "python",
   "nbconvert_exporter": "python",
   "pygments_lexer": "ipython3",
   "version": "3.10.0"
  }
 },
 "nbformat": 4,
 "nbformat_minor": 5
}
